{
 "cells": [
  {
   "cell_type": "code",
   "execution_count": 5,
   "metadata": {},
   "outputs": [
    {
     "name": "stdout",
     "output_type": "stream",
     "text": [
      "Test MSE 1: 0.00000000000000000000000000000000\n",
      "Test MSE 2: 7884273663341.82910156250000000000000000000000\n",
      "Test MSE 3: 0.00001034030886652036166262376427\n",
      "Test MSE 4: 0.06846623301471516098715142106812\n",
      "Test MSE 5: 0.00000000000000000007199630178171\n",
      "Test MSE 6: 0.00000394309497574177520752558568\n",
      "Test MSE 7: 30.60716745101797187089687213301659\n",
      "Test MSE 8: 92274.75584809198335278779268264770508\n"
     ]
    }
   ],
   "source": [
    "import numpy as np\n",
    "# Notez bien: No need to include f0 -- it's just an example!\n",
    "\n",
    "\n",
    "\n",
    "def f0(x: np.ndarray) -> np.ndarray:\n",
    "    return x[0] + np.sin(x[1]) / 5\n",
    "\n",
    "\n",
    "def f1(x: np.ndarray) -> np.ndarray: \n",
    "    \n",
    "    return np.sin(x[0])\n",
    "\n",
    "def f2(x: np.ndarray) -> np.ndarray: \n",
    "    return ((756207.936*x[2]+1218853.827*x[1]+1747375.474*np.arctan(0.4426*x[2]))*0.994*np.cos(0.502*x[0])+1247989.7133*np.sin(0.0269*x[1])+3000251.7633*np.arctan(1.089*x[0]))\n",
    "\n",
    "\n",
    "def f3(x: np.ndarray) -> np.ndarray:\n",
    "    return np.round(((((x[2] * -3.5011236) - -4.2145568) + (-(x[1]) * np.square(x[1]))) - ((9.8732836e-07 - x[0]) * (x[0] + x[0]))) - 0.2143514, 7)\n",
    "\n",
    "def f4(x: np.ndarray) -> np.ndarray: \n",
    "\n",
    "    def fake_expa(a, x):\n",
    "        if np.isscalar(a) and np.isscalar(x):\n",
    "            if a < 0.001:\n",
    "                a = 0.001\n",
    "            if a > 10:\n",
    "                a = 10\n",
    "            if x < 0.001:\n",
    "                x = 0.001\n",
    "            if x > 8:\n",
    "                x = 8\n",
    "            result = a**x\n",
    "            return min(result, 10**8)\n",
    "        else:\n",
    "            return np.array([fake_expa(ai, xi) for ai, xi in zip(a, x)])\n",
    "        \n",
    "    def fake_modf(x):\n",
    "        if np.isscalar(x):\n",
    "            return x - int(x)\n",
    "        else:\n",
    "            return np.array([fake_modf(xi) for xi in x])\n",
    "    return  np.add(np.add(np.cos(x[1]), np.add(np.add(0.8696509541, np.add(np.add(np.cos(np.negative(x[1])), np.cos(x[1])), np.add(np.cos(x[1]), np.add(np.tan(0.8696509541), np.cos(x[1]))))), np.add(np.cos(np.negative(x[1])), fake_modf(np.cos(np.negative(x[1])))))), fake_expa(np.tan(0.8696509541), np.tan(0.8696509541)))\n",
    "\n",
    "def f5(x: np.ndarray) -> np.ndarray: \n",
    "    return (np.cos(0.560802 * x[1]) * np.exp(1.27210 * x[0]) * np.arctan(0.3330 * x[0]) * (8.11230e-10 * 3.71410e-11 * 1.90540e-11)) / (np.exp(-0.98120 * x[1]) * (9.14440e-10 * 3.12660e-10 * 1.04880 * x[0]))\n",
    "\n",
    "def f6(x: np.ndarray) -> np.ndarray: \n",
    "    return np.subtract(x[1], np.multiply(np.subtract(x[0], x[1]), 0.695))\n",
    "\n",
    "def f7(x: np.ndarray) -> np.ndarray:\n",
    "    term1 = (x[1] * x[0]) * (1.298260 - np.sin((0.704873 - (x[1] * x[0])) * -0.125456))\n",
    "    term2 = ((0.941172 / np.power(0.919048, np.remainder(x[0], 0.179080))) *\n",
    "             np.power(np.power(1.007577, np.remainder(x[0], -0.545329)), ((x[1] - 0.545329) * x[0]))\n",
    "            ) - np.abs(np.arctan(np.arctan(x[0] - x[1])))\n",
    "    term3 = (1.774334 * (0.543759 + np.power(1.027270, np.remainder(-1.646242, x[1])))) + \\\n",
    "            np.exp(np.power(0.970442, np.remainder(x[0], 0.965901)) + np.power(0.956161, (x[0] - x[1])))\n",
    "    return np.exp(np.square(0.194125 * (term1 + term2 * term3)))\n",
    "\n",
    "def f8(x: np.ndarray) -> np.ndarray: \n",
    "    return 0.001*np.abs(x[2])+2933.8781*np.tan(0.28*x[5])-574.14*np.abs(x[4])+409.5379*np.cos(5.5364e-7*x[0])+406.5744*np.cos(0.084*x[1])-1848.7071*np.sin(0.641*x[5])-624.0142*np.cos(1.0164*x[4])+45.4951*x[3]\n",
    "\n",
    "for i in range(1,9):\n",
    "    problem = np.load(f'data/problem_{i}.npz')\n",
    "    x = problem['x'].T\n",
    "    y = problem['y']\n",
    "    if i==1:\n",
    "        funct = f1    \n",
    "    elif i==2:\n",
    "        funct = f2\n",
    "    elif i==3:\n",
    "        funct = f3\n",
    "    elif i==4:\n",
    "        funct = f4\n",
    "    elif i==5:\n",
    "        funct = f5\n",
    "    elif i==6:\n",
    "        funct = f6\n",
    "    elif i==7:\n",
    "        funct = f7\n",
    "    elif i==8:\n",
    "        funct = f8\n",
    "    \n",
    "    res=0\n",
    "    for j in range(0, len(x)):\n",
    "       a = (funct(x[j])-y[j])**2\n",
    "       res += a\n",
    "    res = res/len(x)\n",
    "    \n",
    "    \n",
    "    print(f\"Test MSE {i}: {res:.32f}\")\n",
    "\n"
   ]
  },
  {
   "cell_type": "code",
   "execution_count": 4,
   "metadata": {},
   "outputs": [
    {
     "name": "stdout",
     "output_type": "stream",
     "text": [
      "Test MSE 1: 0.00000000000000000000000000000000\n",
      "Test MSE 2: 7884274639994.33593750000000000000000000000000\n",
      "Test MSE 3: 10.27431905219979491050708020338789\n",
      "Test MSE 4: 0.00003429819320280945964133159642\n",
      "Test MSE 5: 0.00000000000000000007199639511231\n",
      "Test MSE 6: 0.00000026150183862008963574363588\n",
      "Test MSE 7: 398.10059374398554155050078406929970\n",
      "Test MSE 8: 92274.75692100338346790522336959838867\n"
     ]
    }
   ],
   "source": []
  },
  {
   "cell_type": "code",
   "execution_count": 8,
   "metadata": {},
   "outputs": [
    {
     "name": "stdout",
     "output_type": "stream",
     "text": [
      "Test MSE 1: 0.00000000000000000000000000000000\n",
      "Test MSE 2: 29613767772195.74218750000000000000000000000000\n",
      "Test MSE 3: 0.00001052408728210635852691901687\n",
      "Test MSE 4: 0.00000001531821033991192558093949\n",
      "Test MSE 5: 0.00000000000000000196703311481046\n",
      "Test MSE 6: 0.00000000000003087804333157607518\n",
      "Test MSE 7: 30.34175445698191353471884212922305\n",
      "Test MSE 8: 6842.14038029726543754804879426956177\n"
     ]
    }
   ],
   "source": []
  },
  {
   "cell_type": "code",
   "execution_count": 9,
   "metadata": {},
   "outputs": [
    {
     "data": {
      "text/plain": [
       "-21729493132201"
      ]
     },
     "execution_count": 9,
     "metadata": {},
     "output_type": "execute_result"
    }
   ],
   "source": [
    "7884274639994-29613767772195"
   ]
  },
  {
   "cell_type": "code",
   "execution_count": 2,
   "metadata": {},
   "outputs": [
    {
     "name": "stdout",
     "output_type": "stream",
     "text": [
      "NumPy-compatible Formula: np.multiply(np.add(np.abs(np.multiply(x[0], x[1])), np.negative(np.subtract(min(0.97950124451733522335, -0.50568576207958360058), np.abs(0.37508853161241484386)))), max(np.subtract(np.abs(np.subtract(0.33882554391581076736, -0.84741840838904725075)), np.subtract(np.subtract(np.negative(np.multiply(x[1], -0.26198144409274304323)), np.subtract(np.multiply(x[0], x[1]), np.negative(np.divide(np.abs(x[0]), np.abs(np.abs(np.subtract(x[1], x[0]))))))), np.multiply(x[1], x[0]))), np.abs(np.add(x[1], x[0]))))\n"
     ]
    }
   ],
   "source": [
    "import re\n",
    "\n",
    "def convert_formula_to_nu_ma_mpy(formula: str, input_labels: list[str]) -> str:\n",
    "    \"\"\"\n",
    "    Converts a formula string to a NumPy-compatible expression.\n",
    "\n",
    "    Args:\n",
    "        formula: The formula string to convert.\n",
    "        input_labels: A list of input variable labels (e.g., ['x0', 'x1']).\n",
    "\n",
    "    Returns:\n",
    "        A NumPy-compatible expression string.\n",
    "    \"\"\"\n",
    "\n",
    "    # Replace input labels with NumPy array indexing\n",
    "    for i, label in enumerate(input_labels):\n",
    "        formula = formula.replace(label.upper(), f\"x[{i}]\")\n",
    "\n",
    "    # Replace operators with NumPy functions\n",
    "    formula = formula.replace(\"add\", \"np.add\")\n",
    "    formula = formula.replace(\"neg\", \"np.negative\")\n",
    "    formula = formula.replace(\"cos\", \"np.cos\")\n",
    "    formula = formula.replace(\"tan\", \"np.tan\")\n",
    "    formula = formula.replace(\"modf\", \"fake_modf\")\n",
    "    formula = formula.replace(\"exp_a\", \"fake_expa\") # Assuming exp_a means power\n",
    "    formula = formula.replace(\"sub\", \"np.subtract\")\n",
    "    formula = formula.replace(\"mul\", \"np.multiply\")\n",
    "    formula = formula.replace(\"div\", \"np.divide\")\n",
    "    formula = formula.replace(\"abs\", \"np.abs\")\n",
    "    formula = formula.replace(\"sign\", \"np.sign\")\n",
    "    formula = formula.replace(\"exp\", \"np.exp\")\n",
    "    formula = formula.replace(\"exp2\", \"np.exp2\")\n",
    "    formula = formula.replace(\"sqrt\", \"np.sqrt\")\n",
    "    formula = formula.replace(\"square\", \"np.square\")\n",
    "    formula = formula.replace(\"cbrt\", \"np.cbrt\")\n",
    "    formula = formula.replace(\"reciprocal\", \"np.reciprocal\")\n",
    "    formula = formula.replace(\"sin\", \"np.sin\")\n",
    "    formula = formula.replace(\"sinh\", \"np.sinh\")\n",
    "    formula = formula.replace(\"cosh\", \"np.cosh\")\n",
    "\n",
    "    # Remove extra spaces and parentheses if needed\n",
    "    formula = formula.strip()\n",
    "\n",
    "    return formula\n",
    "\n",
    "# ... (previous code for generating top_expression) ...\n",
    "\n",
    "# Display the formula of the best solution\n",
    "# print(f\"\\nBest Solution Formula: {top_expression.structure}\")\n",
    "\n",
    "# Convert the formula to a NumPy-compatible expression\n",
    "numpy_formula = convert_formula_to_nu_ma_mpy(\"mul(add(abs(mul(X0, X1)), neg(sub(min(0.97950124451733522335, -0.50568576207958360058), abs(0.37508853161241484386)))), max(sub(abs(sub(0.33882554391581076736, -0.84741840838904725075)), sub(sub(neg(mul(X1, -0.26198144409274304323)), sub(mul(X0, X1), neg(div(abs(X0), abs(abs(sub(X1, X0))))))), mul(X1, X0))), abs(add(X1, X0))))\", ['X0', 'X1', 'X2', 'X3', 'X4', 'X5', 'X6', 'X7', 'X8'])\n",
    "print(f\"NumPy-compatible Formula: {numpy_formula}\")"
   ]
  }
 ],
 "metadata": {
  "kernelspec": {
   "display_name": "Python 3",
   "language": "python",
   "name": "python3"
  },
  "language_info": {
   "codemirror_mode": {
    "name": "ipython",
    "version": 3
   },
   "file_extension": ".py",
   "mimetype": "text/x-python",
   "name": "python",
   "nbconvert_exporter": "python",
   "pygments_lexer": "ipython3",
   "version": "3.10.5"
  }
 },
 "nbformat": 4,
 "nbformat_minor": 2
}
